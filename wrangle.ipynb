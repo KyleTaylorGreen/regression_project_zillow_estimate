{
 "cells": [
  {
   "cell_type": "code",
   "execution_count": 1,
   "id": "051f0aae",
   "metadata": {},
   "outputs": [],
   "source": [
    "import pandas as pd\n",
    "import numpy as np\n",
    "import env\n",
    "\n",
    "import matplotlib.pyplot as plt\n",
    "import seaborn as sns\n",
    "\n",
    "\n",
    "import env\n",
    "import gmaps\n",
    "import gmaps.datasets\n",
    "import acquire\n",
    "import wrangle as wr\n",
    "import exploration as exp\n",
    "from IPython.display import display"
   ]
  },
  {
   "cell_type": "markdown",
   "id": "e62a70bc",
   "metadata": {},
   "source": [
    "## Acquiring Zillow Data"
   ]
  },
  {
   "cell_type": "code",
   "execution_count": 2,
   "id": "d8c5f400",
   "metadata": {
    "scrolled": true
   },
   "outputs": [
    {
     "data": {
      "text/html": [
       "<div>\n",
       "<style scoped>\n",
       "    .dataframe tbody tr th:only-of-type {\n",
       "        vertical-align: middle;\n",
       "    }\n",
       "\n",
       "    .dataframe tbody tr th {\n",
       "        vertical-align: top;\n",
       "    }\n",
       "\n",
       "    .dataframe thead th {\n",
       "        text-align: right;\n",
       "    }\n",
       "</style>\n",
       "<table border=\"1\" class=\"dataframe\">\n",
       "  <thead>\n",
       "    <tr style=\"text-align: right;\">\n",
       "      <th></th>\n",
       "      <th>Unnamed: 0</th>\n",
       "      <th>parcelid</th>\n",
       "      <th>bedroomcnt</th>\n",
       "      <th>bathroomcnt</th>\n",
       "      <th>calculatedfinishedsquarefeet</th>\n",
       "      <th>taxvaluedollarcnt</th>\n",
       "      <th>yearbuilt</th>\n",
       "      <th>taxamount</th>\n",
       "      <th>fips</th>\n",
       "      <th>latitude</th>\n",
       "      <th>longitude</th>\n",
       "    </tr>\n",
       "  </thead>\n",
       "  <tbody>\n",
       "    <tr>\n",
       "      <th>0</th>\n",
       "      <td>0</td>\n",
       "      <td>14297519</td>\n",
       "      <td>4.0</td>\n",
       "      <td>3.5</td>\n",
       "      <td>3100.0</td>\n",
       "      <td>1023282.0</td>\n",
       "      <td>1998.0</td>\n",
       "      <td>11013.72</td>\n",
       "      <td>6059.0</td>\n",
       "      <td>33634931.0</td>\n",
       "      <td>-117869207.0</td>\n",
       "    </tr>\n",
       "    <tr>\n",
       "      <th>1</th>\n",
       "      <td>1</td>\n",
       "      <td>17052889</td>\n",
       "      <td>2.0</td>\n",
       "      <td>1.0</td>\n",
       "      <td>1465.0</td>\n",
       "      <td>464000.0</td>\n",
       "      <td>1967.0</td>\n",
       "      <td>5672.48</td>\n",
       "      <td>6111.0</td>\n",
       "      <td>34449266.0</td>\n",
       "      <td>-119281531.0</td>\n",
       "    </tr>\n",
       "    <tr>\n",
       "      <th>2</th>\n",
       "      <td>2</td>\n",
       "      <td>14186244</td>\n",
       "      <td>3.0</td>\n",
       "      <td>2.0</td>\n",
       "      <td>1243.0</td>\n",
       "      <td>564778.0</td>\n",
       "      <td>1962.0</td>\n",
       "      <td>6488.30</td>\n",
       "      <td>6059.0</td>\n",
       "      <td>33886168.0</td>\n",
       "      <td>-117823170.0</td>\n",
       "    </tr>\n",
       "    <tr>\n",
       "      <th>3</th>\n",
       "      <td>3</td>\n",
       "      <td>12177905</td>\n",
       "      <td>4.0</td>\n",
       "      <td>3.0</td>\n",
       "      <td>2376.0</td>\n",
       "      <td>145143.0</td>\n",
       "      <td>1970.0</td>\n",
       "      <td>1777.51</td>\n",
       "      <td>6037.0</td>\n",
       "      <td>34245180.0</td>\n",
       "      <td>-118240722.0</td>\n",
       "    </tr>\n",
       "    <tr>\n",
       "      <th>4</th>\n",
       "      <td>4</td>\n",
       "      <td>12095076</td>\n",
       "      <td>4.0</td>\n",
       "      <td>3.0</td>\n",
       "      <td>2962.0</td>\n",
       "      <td>773303.0</td>\n",
       "      <td>1950.0</td>\n",
       "      <td>9516.26</td>\n",
       "      <td>6037.0</td>\n",
       "      <td>34145202.0</td>\n",
       "      <td>-118179824.0</td>\n",
       "    </tr>\n",
       "  </tbody>\n",
       "</table>\n",
       "</div>"
      ],
      "text/plain": [
       "   Unnamed: 0  parcelid  bedroomcnt  bathroomcnt  \\\n",
       "0           0  14297519         4.0          3.5   \n",
       "1           1  17052889         2.0          1.0   \n",
       "2           2  14186244         3.0          2.0   \n",
       "3           3  12177905         4.0          3.0   \n",
       "4           4  12095076         4.0          3.0   \n",
       "\n",
       "   calculatedfinishedsquarefeet  taxvaluedollarcnt  yearbuilt  taxamount  \\\n",
       "0                        3100.0          1023282.0     1998.0   11013.72   \n",
       "1                        1465.0           464000.0     1967.0    5672.48   \n",
       "2                        1243.0           564778.0     1962.0    6488.30   \n",
       "3                        2376.0           145143.0     1970.0    1777.51   \n",
       "4                        2962.0           773303.0     1950.0    9516.26   \n",
       "\n",
       "     fips    latitude    longitude  \n",
       "0  6059.0  33634931.0 -117869207.0  \n",
       "1  6111.0  34449266.0 -119281531.0  \n",
       "2  6059.0  33886168.0 -117823170.0  \n",
       "3  6037.0  34245180.0 -118240722.0  \n",
       "4  6037.0  34145202.0 -118179824.0  "
      ]
     },
     "execution_count": 2,
     "metadata": {},
     "output_type": "execute_result"
    }
   ],
   "source": [
    "zillow = acquire.get_zillow_data()\n",
    "zillow.head()"
   ]
  },
  {
   "cell_type": "markdown",
   "id": "b8f3e73d",
   "metadata": {},
   "source": [
    "## Checking/Correcting Null Values"
   ]
  },
  {
   "cell_type": "code",
   "execution_count": 3,
   "id": "583ef013",
   "metadata": {},
   "outputs": [
    {
     "data": {
      "text/plain": [
       "Unnamed: 0                        0\n",
       "parcelid                          0\n",
       "bedroomcnt                        0\n",
       "bathroomcnt                       0\n",
       "calculatedfinishedsquarefeet     82\n",
       "taxvaluedollarcnt                 1\n",
       "yearbuilt                       116\n",
       "taxamount                         4\n",
       "fips                              0\n",
       "latitude                          0\n",
       "longitude                         0\n",
       "dtype: int64"
      ]
     },
     "execution_count": 3,
     "metadata": {},
     "output_type": "execute_result"
    }
   ],
   "source": [
    "# checking total nulls in each column\n",
    "zillow.isna().sum()"
   ]
  },
  {
   "cell_type": "code",
   "execution_count": 4,
   "id": "e183c4cc",
   "metadata": {},
   "outputs": [
    {
     "data": {
      "text/plain": [
       "(52442, 11)"
      ]
     },
     "execution_count": 4,
     "metadata": {},
     "output_type": "execute_result"
    }
   ],
   "source": [
    "# checking number of rows\n",
    "zillow.shape"
   ]
  },
  {
   "cell_type": "code",
   "execution_count": 5,
   "id": "b6ec3949",
   "metadata": {
    "scrolled": true
   },
   "outputs": [
    {
     "data": {
      "text/plain": [
       "Unnamed: 0                      0.000000\n",
       "parcelid                        0.000000\n",
       "bedroomcnt                      0.000000\n",
       "bathroomcnt                     0.000000\n",
       "calculatedfinishedsquarefeet    0.001564\n",
       "taxvaluedollarcnt               0.000019\n",
       "yearbuilt                       0.002212\n",
       "taxamount                       0.000076\n",
       "fips                            0.000000\n",
       "latitude                        0.000000\n",
       "longitude                       0.000000\n",
       "dtype: float64"
      ]
     },
     "execution_count": 5,
     "metadata": {},
     "output_type": "execute_result"
    }
   ],
   "source": [
    "# creating proportions to see percentage of nulls in each column\n",
    "zillow.isna().sum() / zillow.shape[0]"
   ]
  },
  {
   "cell_type": "markdown",
   "id": "e3f00f1a",
   "metadata": {},
   "source": [
    "### Conclusion: \n",
    "> Nulls make up very small percent of data set, I feel comfortable dropping them."
   ]
  },
  {
   "cell_type": "code",
   "execution_count": 6,
   "id": "a471e256",
   "metadata": {},
   "outputs": [
    {
     "data": {
      "text/plain": [
       "0.9975973456389916"
      ]
     },
     "execution_count": 6,
     "metadata": {},
     "output_type": "execute_result"
    }
   ],
   "source": [
    "# Drop null values and then compare new df shape \n",
    "zillow = zillow.dropna()\n",
    "#zillow = zillow.drop(columns='Unnamed: 0')\n",
    "\n",
    "# readability\n",
    "zillow = zillow.rename(columns={'calculatedfinishedsquarefeet': 'sqr_ft'})\n",
    "\n",
    "zillow.shape[0] / acquire.get_zillow_data().shape[0]"
   ]
  },
  {
   "cell_type": "markdown",
   "id": "54ea785f",
   "metadata": {},
   "source": [
    "### We still retrain 99.41% of our data with over 2 million rows."
   ]
  },
  {
   "cell_type": "markdown",
   "id": "358bee2c",
   "metadata": {},
   "source": [
    "## Checking Data Type Consistency"
   ]
  },
  {
   "cell_type": "code",
   "execution_count": 7,
   "id": "94ee7e92",
   "metadata": {
    "scrolled": false
   },
   "outputs": [
    {
     "name": "stdout",
     "output_type": "stream",
     "text": [
      "<class 'pandas.core.frame.DataFrame'>\n",
      "Int64Index: 52316 entries, 0 to 52441\n",
      "Data columns (total 11 columns):\n",
      " #   Column             Non-Null Count  Dtype  \n",
      "---  ------             --------------  -----  \n",
      " 0   Unnamed: 0         52316 non-null  int64  \n",
      " 1   parcelid           52316 non-null  int64  \n",
      " 2   bedroomcnt         52316 non-null  float64\n",
      " 3   bathroomcnt        52316 non-null  float64\n",
      " 4   sqr_ft             52316 non-null  float64\n",
      " 5   taxvaluedollarcnt  52316 non-null  float64\n",
      " 6   yearbuilt          52316 non-null  float64\n",
      " 7   taxamount          52316 non-null  float64\n",
      " 8   fips               52316 non-null  float64\n",
      " 9   latitude           52316 non-null  float64\n",
      " 10  longitude          52316 non-null  float64\n",
      "dtypes: float64(9), int64(2)\n",
      "memory usage: 4.8 MB\n"
     ]
    }
   ],
   "source": [
    "zillow.info()"
   ]
  },
  {
   "cell_type": "markdown",
   "id": "5d244d73",
   "metadata": {},
   "source": [
    "### Conclusion:\n",
    "> All numeric types are already numeric, although fips and yearbuilt would be better as int64.\n",
    "Will change yearbuilt to int and fips to int, although fips may be dropped eventually."
   ]
  },
  {
   "cell_type": "code",
   "execution_count": 8,
   "id": "a126c0a5",
   "metadata": {},
   "outputs": [
    {
     "name": "stdout",
     "output_type": "stream",
     "text": [
      "<class 'pandas.core.frame.DataFrame'>\n",
      "Int64Index: 52316 entries, 0 to 52441\n",
      "Data columns (total 11 columns):\n",
      " #   Column             Non-Null Count  Dtype  \n",
      "---  ------             --------------  -----  \n",
      " 0   Unnamed: 0         52316 non-null  int64  \n",
      " 1   parcelid           52316 non-null  int64  \n",
      " 2   bedroomcnt         52316 non-null  float64\n",
      " 3   bathroomcnt        52316 non-null  float64\n",
      " 4   sqr_ft             52316 non-null  float64\n",
      " 5   taxvaluedollarcnt  52316 non-null  float64\n",
      " 6   yearbuilt          52316 non-null  int64  \n",
      " 7   taxamount          52316 non-null  float64\n",
      " 8   fips               52316 non-null  int64  \n",
      " 9   latitude           52316 non-null  float64\n",
      " 10  longitude          52316 non-null  float64\n",
      "dtypes: float64(7), int64(4)\n",
      "memory usage: 4.8 MB\n"
     ]
    }
   ],
   "source": [
    "cols = ['yearbuilt', 'fips']\n",
    "zillow[cols] = zillow[cols].astype('int64')\n",
    "zillow.info()"
   ]
  },
  {
   "cell_type": "markdown",
   "id": "1018a2d7",
   "metadata": {},
   "source": [
    "## Analyzing Weird Values in Dataset"
   ]
  },
  {
   "cell_type": "code",
   "execution_count": 9,
   "id": "91491891",
   "metadata": {
    "scrolled": true
   },
   "outputs": [
    {
     "data": {
      "text/html": [
       "<div>\n",
       "<style scoped>\n",
       "    .dataframe tbody tr th:only-of-type {\n",
       "        vertical-align: middle;\n",
       "    }\n",
       "\n",
       "    .dataframe tbody tr th {\n",
       "        vertical-align: top;\n",
       "    }\n",
       "\n",
       "    .dataframe thead th {\n",
       "        text-align: right;\n",
       "    }\n",
       "</style>\n",
       "<table border=\"1\" class=\"dataframe\">\n",
       "  <thead>\n",
       "    <tr style=\"text-align: right;\">\n",
       "      <th></th>\n",
       "      <th>count</th>\n",
       "      <th>mean</th>\n",
       "      <th>std</th>\n",
       "      <th>min</th>\n",
       "      <th>25%</th>\n",
       "      <th>50%</th>\n",
       "      <th>75%</th>\n",
       "      <th>max</th>\n",
       "    </tr>\n",
       "  </thead>\n",
       "  <tbody>\n",
       "    <tr>\n",
       "      <th>Unnamed: 0</th>\n",
       "      <td>52316.0</td>\n",
       "      <td>2.622174e+04</td>\n",
       "      <td>1.514073e+04</td>\n",
       "      <td>0.000000e+00</td>\n",
       "      <td>1.311475e+04</td>\n",
       "      <td>2.621650e+04</td>\n",
       "      <td>3.933625e+04</td>\n",
       "      <td>52441.0</td>\n",
       "    </tr>\n",
       "    <tr>\n",
       "      <th>parcelid</th>\n",
       "      <td>52316.0</td>\n",
       "      <td>1.298966e+07</td>\n",
       "      <td>3.276587e+06</td>\n",
       "      <td>1.071186e+07</td>\n",
       "      <td>1.150843e+07</td>\n",
       "      <td>1.257394e+07</td>\n",
       "      <td>1.412647e+07</td>\n",
       "      <td>167639152.0</td>\n",
       "    </tr>\n",
       "    <tr>\n",
       "      <th>bedroomcnt</th>\n",
       "      <td>52316.0</td>\n",
       "      <td>3.305891e+00</td>\n",
       "      <td>9.405925e-01</td>\n",
       "      <td>0.000000e+00</td>\n",
       "      <td>3.000000e+00</td>\n",
       "      <td>3.000000e+00</td>\n",
       "      <td>4.000000e+00</td>\n",
       "      <td>14.0</td>\n",
       "    </tr>\n",
       "    <tr>\n",
       "      <th>bathroomcnt</th>\n",
       "      <td>52316.0</td>\n",
       "      <td>2.302785e+00</td>\n",
       "      <td>1.019072e+00</td>\n",
       "      <td>0.000000e+00</td>\n",
       "      <td>2.000000e+00</td>\n",
       "      <td>2.000000e+00</td>\n",
       "      <td>3.000000e+00</td>\n",
       "      <td>18.0</td>\n",
       "    </tr>\n",
       "    <tr>\n",
       "      <th>sqr_ft</th>\n",
       "      <td>52316.0</td>\n",
       "      <td>1.922537e+03</td>\n",
       "      <td>1.003627e+03</td>\n",
       "      <td>1.280000e+02</td>\n",
       "      <td>1.268000e+03</td>\n",
       "      <td>1.658000e+03</td>\n",
       "      <td>2.305000e+03</td>\n",
       "      <td>21929.0</td>\n",
       "    </tr>\n",
       "    <tr>\n",
       "      <th>taxvaluedollarcnt</th>\n",
       "      <td>52316.0</td>\n",
       "      <td>5.280397e+05</td>\n",
       "      <td>7.484514e+05</td>\n",
       "      <td>1.000000e+03</td>\n",
       "      <td>1.937015e+05</td>\n",
       "      <td>3.733460e+05</td>\n",
       "      <td>6.186150e+05</td>\n",
       "      <td>49061236.0</td>\n",
       "    </tr>\n",
       "    <tr>\n",
       "      <th>yearbuilt</th>\n",
       "      <td>52316.0</td>\n",
       "      <td>1.963396e+03</td>\n",
       "      <td>2.313369e+01</td>\n",
       "      <td>1.878000e+03</td>\n",
       "      <td>1.950000e+03</td>\n",
       "      <td>1.961000e+03</td>\n",
       "      <td>1.979000e+03</td>\n",
       "      <td>2016.0</td>\n",
       "    </tr>\n",
       "    <tr>\n",
       "      <th>taxamount</th>\n",
       "      <td>52316.0</td>\n",
       "      <td>6.434689e+03</td>\n",
       "      <td>8.709571e+03</td>\n",
       "      <td>4.918000e+01</td>\n",
       "      <td>2.656202e+03</td>\n",
       "      <td>4.645150e+03</td>\n",
       "      <td>7.371530e+03</td>\n",
       "      <td>586639.3</td>\n",
       "    </tr>\n",
       "    <tr>\n",
       "      <th>fips</th>\n",
       "      <td>52316.0</td>\n",
       "      <td>6.049086e+03</td>\n",
       "      <td>2.098506e+01</td>\n",
       "      <td>6.037000e+03</td>\n",
       "      <td>6.037000e+03</td>\n",
       "      <td>6.037000e+03</td>\n",
       "      <td>6.059000e+03</td>\n",
       "      <td>6111.0</td>\n",
       "    </tr>\n",
       "    <tr>\n",
       "      <th>latitude</th>\n",
       "      <td>52316.0</td>\n",
       "      <td>3.402273e+07</td>\n",
       "      <td>2.739092e+05</td>\n",
       "      <td>3.334062e+07</td>\n",
       "      <td>3.382711e+07</td>\n",
       "      <td>3.402386e+07</td>\n",
       "      <td>3.418710e+07</td>\n",
       "      <td>34818767.0</td>\n",
       "    </tr>\n",
       "    <tr>\n",
       "      <th>longitude</th>\n",
       "      <td>52316.0</td>\n",
       "      <td>-1.181940e+08</td>\n",
       "      <td>3.560983e+05</td>\n",
       "      <td>-1.194754e+08</td>\n",
       "      <td>-1.184004e+08</td>\n",
       "      <td>-1.181531e+08</td>\n",
       "      <td>-1.179296e+08</td>\n",
       "      <td>-117554636.0</td>\n",
       "    </tr>\n",
       "  </tbody>\n",
       "</table>\n",
       "</div>"
      ],
      "text/plain": [
       "                     count          mean           std           min  \\\n",
       "Unnamed: 0         52316.0  2.622174e+04  1.514073e+04  0.000000e+00   \n",
       "parcelid           52316.0  1.298966e+07  3.276587e+06  1.071186e+07   \n",
       "bedroomcnt         52316.0  3.305891e+00  9.405925e-01  0.000000e+00   \n",
       "bathroomcnt        52316.0  2.302785e+00  1.019072e+00  0.000000e+00   \n",
       "sqr_ft             52316.0  1.922537e+03  1.003627e+03  1.280000e+02   \n",
       "taxvaluedollarcnt  52316.0  5.280397e+05  7.484514e+05  1.000000e+03   \n",
       "yearbuilt          52316.0  1.963396e+03  2.313369e+01  1.878000e+03   \n",
       "taxamount          52316.0  6.434689e+03  8.709571e+03  4.918000e+01   \n",
       "fips               52316.0  6.049086e+03  2.098506e+01  6.037000e+03   \n",
       "latitude           52316.0  3.402273e+07  2.739092e+05  3.334062e+07   \n",
       "longitude          52316.0 -1.181940e+08  3.560983e+05 -1.194754e+08   \n",
       "\n",
       "                            25%           50%           75%          max  \n",
       "Unnamed: 0         1.311475e+04  2.621650e+04  3.933625e+04      52441.0  \n",
       "parcelid           1.150843e+07  1.257394e+07  1.412647e+07  167639152.0  \n",
       "bedroomcnt         3.000000e+00  3.000000e+00  4.000000e+00         14.0  \n",
       "bathroomcnt        2.000000e+00  2.000000e+00  3.000000e+00         18.0  \n",
       "sqr_ft             1.268000e+03  1.658000e+03  2.305000e+03      21929.0  \n",
       "taxvaluedollarcnt  1.937015e+05  3.733460e+05  6.186150e+05   49061236.0  \n",
       "yearbuilt          1.950000e+03  1.961000e+03  1.979000e+03       2016.0  \n",
       "taxamount          2.656202e+03  4.645150e+03  7.371530e+03     586639.3  \n",
       "fips               6.037000e+03  6.037000e+03  6.059000e+03       6111.0  \n",
       "latitude           3.382711e+07  3.402386e+07  3.418710e+07   34818767.0  \n",
       "longitude         -1.184004e+08 -1.181531e+08 -1.179296e+08 -117554636.0  "
      ]
     },
     "execution_count": 9,
     "metadata": {},
     "output_type": "execute_result"
    }
   ],
   "source": [
    "# overview description of values\n",
    "zillow.describe().T"
   ]
  },
  {
   "cell_type": "markdown",
   "id": "448dc97b",
   "metadata": {},
   "source": [
    "# Takeaways:\n",
    "> * calculatedfinishedsquarefeet should not have a value of 1.00\n",
    "> * bedroomcnt + bathroomcnt having 0 is weird but not necessarily impossible. Need further research to see how prevalent this is.\n"
   ]
  },
  {
   "cell_type": "markdown",
   "id": "2b37d30c",
   "metadata": {},
   "source": [
    "## Cleaning Strange Values"
   ]
  },
  {
   "cell_type": "markdown",
   "id": "f0bfc912",
   "metadata": {},
   "source": [
    "https://worldpopulationreview.com/state-rankings/minimum-house-size-by-state\n",
    "\n",
    "Using this resource, I'm going to limit the data to only include houses with square footage above 70 square feet."
   ]
  },
  {
   "cell_type": "code",
   "execution_count": 10,
   "id": "5216770f",
   "metadata": {},
   "outputs": [
    {
     "data": {
      "text/html": [
       "<div>\n",
       "<style scoped>\n",
       "    .dataframe tbody tr th:only-of-type {\n",
       "        vertical-align: middle;\n",
       "    }\n",
       "\n",
       "    .dataframe tbody tr th {\n",
       "        vertical-align: top;\n",
       "    }\n",
       "\n",
       "    .dataframe thead th {\n",
       "        text-align: right;\n",
       "    }\n",
       "</style>\n",
       "<table border=\"1\" class=\"dataframe\">\n",
       "  <thead>\n",
       "    <tr style=\"text-align: right;\">\n",
       "      <th></th>\n",
       "      <th>Unnamed: 0</th>\n",
       "      <th>parcelid</th>\n",
       "      <th>bedroomcnt</th>\n",
       "      <th>bathroomcnt</th>\n",
       "      <th>sqr_ft</th>\n",
       "      <th>taxvaluedollarcnt</th>\n",
       "      <th>yearbuilt</th>\n",
       "      <th>taxamount</th>\n",
       "      <th>fips</th>\n",
       "      <th>latitude</th>\n",
       "      <th>longitude</th>\n",
       "    </tr>\n",
       "  </thead>\n",
       "  <tbody>\n",
       "    <tr>\n",
       "      <th>0</th>\n",
       "      <td>0</td>\n",
       "      <td>14297519</td>\n",
       "      <td>4.0</td>\n",
       "      <td>3.5</td>\n",
       "      <td>3100.0</td>\n",
       "      <td>1023282.0</td>\n",
       "      <td>1998</td>\n",
       "      <td>11013.72</td>\n",
       "      <td>6059</td>\n",
       "      <td>33634931.0</td>\n",
       "      <td>-117869207.0</td>\n",
       "    </tr>\n",
       "    <tr>\n",
       "      <th>1</th>\n",
       "      <td>1</td>\n",
       "      <td>17052889</td>\n",
       "      <td>2.0</td>\n",
       "      <td>1.0</td>\n",
       "      <td>1465.0</td>\n",
       "      <td>464000.0</td>\n",
       "      <td>1967</td>\n",
       "      <td>5672.48</td>\n",
       "      <td>6111</td>\n",
       "      <td>34449266.0</td>\n",
       "      <td>-119281531.0</td>\n",
       "    </tr>\n",
       "    <tr>\n",
       "      <th>2</th>\n",
       "      <td>2</td>\n",
       "      <td>14186244</td>\n",
       "      <td>3.0</td>\n",
       "      <td>2.0</td>\n",
       "      <td>1243.0</td>\n",
       "      <td>564778.0</td>\n",
       "      <td>1962</td>\n",
       "      <td>6488.30</td>\n",
       "      <td>6059</td>\n",
       "      <td>33886168.0</td>\n",
       "      <td>-117823170.0</td>\n",
       "    </tr>\n",
       "    <tr>\n",
       "      <th>3</th>\n",
       "      <td>3</td>\n",
       "      <td>12177905</td>\n",
       "      <td>4.0</td>\n",
       "      <td>3.0</td>\n",
       "      <td>2376.0</td>\n",
       "      <td>145143.0</td>\n",
       "      <td>1970</td>\n",
       "      <td>1777.51</td>\n",
       "      <td>6037</td>\n",
       "      <td>34245180.0</td>\n",
       "      <td>-118240722.0</td>\n",
       "    </tr>\n",
       "    <tr>\n",
       "      <th>4</th>\n",
       "      <td>4</td>\n",
       "      <td>12095076</td>\n",
       "      <td>4.0</td>\n",
       "      <td>3.0</td>\n",
       "      <td>2962.0</td>\n",
       "      <td>773303.0</td>\n",
       "      <td>1950</td>\n",
       "      <td>9516.26</td>\n",
       "      <td>6037</td>\n",
       "      <td>34145202.0</td>\n",
       "      <td>-118179824.0</td>\n",
       "    </tr>\n",
       "    <tr>\n",
       "      <th>...</th>\n",
       "      <td>...</td>\n",
       "      <td>...</td>\n",
       "      <td>...</td>\n",
       "      <td>...</td>\n",
       "      <td>...</td>\n",
       "      <td>...</td>\n",
       "      <td>...</td>\n",
       "      <td>...</td>\n",
       "      <td>...</td>\n",
       "      <td>...</td>\n",
       "      <td>...</td>\n",
       "    </tr>\n",
       "    <tr>\n",
       "      <th>52437</th>\n",
       "      <td>52437</td>\n",
       "      <td>11000655</td>\n",
       "      <td>2.0</td>\n",
       "      <td>2.0</td>\n",
       "      <td>1286.0</td>\n",
       "      <td>354621.0</td>\n",
       "      <td>1940</td>\n",
       "      <td>4478.43</td>\n",
       "      <td>6037</td>\n",
       "      <td>34245368.0</td>\n",
       "      <td>-118282383.0</td>\n",
       "    </tr>\n",
       "    <tr>\n",
       "      <th>52438</th>\n",
       "      <td>52438</td>\n",
       "      <td>17239384</td>\n",
       "      <td>4.0</td>\n",
       "      <td>2.0</td>\n",
       "      <td>1612.0</td>\n",
       "      <td>67205.0</td>\n",
       "      <td>1964</td>\n",
       "      <td>1107.48</td>\n",
       "      <td>6111</td>\n",
       "      <td>34300140.0</td>\n",
       "      <td>-118706327.0</td>\n",
       "    </tr>\n",
       "    <tr>\n",
       "      <th>52439</th>\n",
       "      <td>52439</td>\n",
       "      <td>12773139</td>\n",
       "      <td>3.0</td>\n",
       "      <td>1.0</td>\n",
       "      <td>1032.0</td>\n",
       "      <td>49546.0</td>\n",
       "      <td>1954</td>\n",
       "      <td>876.43</td>\n",
       "      <td>6037</td>\n",
       "      <td>34040895.0</td>\n",
       "      <td>-118038169.0</td>\n",
       "    </tr>\n",
       "    <tr>\n",
       "      <th>52440</th>\n",
       "      <td>52440</td>\n",
       "      <td>12826780</td>\n",
       "      <td>3.0</td>\n",
       "      <td>2.0</td>\n",
       "      <td>1762.0</td>\n",
       "      <td>522000.0</td>\n",
       "      <td>1955</td>\n",
       "      <td>6317.15</td>\n",
       "      <td>6037</td>\n",
       "      <td>33937685.0</td>\n",
       "      <td>-117996709.0</td>\n",
       "    </tr>\n",
       "    <tr>\n",
       "      <th>52441</th>\n",
       "      <td>52441</td>\n",
       "      <td>13083743</td>\n",
       "      <td>3.0</td>\n",
       "      <td>2.0</td>\n",
       "      <td>1050.0</td>\n",
       "      <td>259334.0</td>\n",
       "      <td>1960</td>\n",
       "      <td>3345.78</td>\n",
       "      <td>6037</td>\n",
       "      <td>34010864.0</td>\n",
       "      <td>-117900894.0</td>\n",
       "    </tr>\n",
       "  </tbody>\n",
       "</table>\n",
       "<p>52316 rows × 11 columns</p>\n",
       "</div>"
      ],
      "text/plain": [
       "       Unnamed: 0  parcelid  bedroomcnt  bathroomcnt  sqr_ft  \\\n",
       "0               0  14297519         4.0          3.5  3100.0   \n",
       "1               1  17052889         2.0          1.0  1465.0   \n",
       "2               2  14186244         3.0          2.0  1243.0   \n",
       "3               3  12177905         4.0          3.0  2376.0   \n",
       "4               4  12095076         4.0          3.0  2962.0   \n",
       "...           ...       ...         ...          ...     ...   \n",
       "52437       52437  11000655         2.0          2.0  1286.0   \n",
       "52438       52438  17239384         4.0          2.0  1612.0   \n",
       "52439       52439  12773139         3.0          1.0  1032.0   \n",
       "52440       52440  12826780         3.0          2.0  1762.0   \n",
       "52441       52441  13083743         3.0          2.0  1050.0   \n",
       "\n",
       "       taxvaluedollarcnt  yearbuilt  taxamount  fips    latitude    longitude  \n",
       "0              1023282.0       1998   11013.72  6059  33634931.0 -117869207.0  \n",
       "1               464000.0       1967    5672.48  6111  34449266.0 -119281531.0  \n",
       "2               564778.0       1962    6488.30  6059  33886168.0 -117823170.0  \n",
       "3               145143.0       1970    1777.51  6037  34245180.0 -118240722.0  \n",
       "4               773303.0       1950    9516.26  6037  34145202.0 -118179824.0  \n",
       "...                  ...        ...        ...   ...         ...          ...  \n",
       "52437           354621.0       1940    4478.43  6037  34245368.0 -118282383.0  \n",
       "52438            67205.0       1964    1107.48  6111  34300140.0 -118706327.0  \n",
       "52439            49546.0       1954     876.43  6037  34040895.0 -118038169.0  \n",
       "52440           522000.0       1955    6317.15  6037  33937685.0 -117996709.0  \n",
       "52441           259334.0       1960    3345.78  6037  34010864.0 -117900894.0  \n",
       "\n",
       "[52316 rows x 11 columns]"
      ]
     },
     "execution_count": 10,
     "metadata": {},
     "output_type": "execute_result"
    }
   ],
   "source": [
    "zillow = zillow[zillow.sqr_ft >= 70]\n",
    "zillow.shape[0] / acquire.get_zillow_data().shape[0]\n",
    "zillow"
   ]
  },
  {
   "cell_type": "markdown",
   "id": "9d91d9ad",
   "metadata": {},
   "source": [
    "Using domain knowledge from Andrew's mom, I'm going to drop all bedroom/bathroom counts of 0."
   ]
  },
  {
   "cell_type": "code",
   "execution_count": 11,
   "id": "2c4c81be",
   "metadata": {},
   "outputs": [
    {
     "data": {
      "text/html": [
       "<div>\n",
       "<style scoped>\n",
       "    .dataframe tbody tr th:only-of-type {\n",
       "        vertical-align: middle;\n",
       "    }\n",
       "\n",
       "    .dataframe tbody tr th {\n",
       "        vertical-align: top;\n",
       "    }\n",
       "\n",
       "    .dataframe thead th {\n",
       "        text-align: right;\n",
       "    }\n",
       "</style>\n",
       "<table border=\"1\" class=\"dataframe\">\n",
       "  <thead>\n",
       "    <tr style=\"text-align: right;\">\n",
       "      <th></th>\n",
       "      <th>Unnamed: 0</th>\n",
       "      <th>parcelid</th>\n",
       "      <th>bedroomcnt</th>\n",
       "      <th>bathroomcnt</th>\n",
       "      <th>sqr_ft</th>\n",
       "      <th>taxvaluedollarcnt</th>\n",
       "      <th>yearbuilt</th>\n",
       "      <th>taxamount</th>\n",
       "      <th>fips</th>\n",
       "      <th>latitude</th>\n",
       "      <th>longitude</th>\n",
       "    </tr>\n",
       "  </thead>\n",
       "  <tbody>\n",
       "    <tr>\n",
       "      <th>0</th>\n",
       "      <td>0</td>\n",
       "      <td>14297519</td>\n",
       "      <td>4.0</td>\n",
       "      <td>3.5</td>\n",
       "      <td>3100.0</td>\n",
       "      <td>1023282.0</td>\n",
       "      <td>1998</td>\n",
       "      <td>11013.72</td>\n",
       "      <td>6059</td>\n",
       "      <td>33634931.0</td>\n",
       "      <td>-117869207.0</td>\n",
       "    </tr>\n",
       "    <tr>\n",
       "      <th>1</th>\n",
       "      <td>1</td>\n",
       "      <td>17052889</td>\n",
       "      <td>2.0</td>\n",
       "      <td>1.0</td>\n",
       "      <td>1465.0</td>\n",
       "      <td>464000.0</td>\n",
       "      <td>1967</td>\n",
       "      <td>5672.48</td>\n",
       "      <td>6111</td>\n",
       "      <td>34449266.0</td>\n",
       "      <td>-119281531.0</td>\n",
       "    </tr>\n",
       "    <tr>\n",
       "      <th>2</th>\n",
       "      <td>2</td>\n",
       "      <td>14186244</td>\n",
       "      <td>3.0</td>\n",
       "      <td>2.0</td>\n",
       "      <td>1243.0</td>\n",
       "      <td>564778.0</td>\n",
       "      <td>1962</td>\n",
       "      <td>6488.30</td>\n",
       "      <td>6059</td>\n",
       "      <td>33886168.0</td>\n",
       "      <td>-117823170.0</td>\n",
       "    </tr>\n",
       "    <tr>\n",
       "      <th>3</th>\n",
       "      <td>3</td>\n",
       "      <td>12177905</td>\n",
       "      <td>4.0</td>\n",
       "      <td>3.0</td>\n",
       "      <td>2376.0</td>\n",
       "      <td>145143.0</td>\n",
       "      <td>1970</td>\n",
       "      <td>1777.51</td>\n",
       "      <td>6037</td>\n",
       "      <td>34245180.0</td>\n",
       "      <td>-118240722.0</td>\n",
       "    </tr>\n",
       "    <tr>\n",
       "      <th>4</th>\n",
       "      <td>4</td>\n",
       "      <td>12095076</td>\n",
       "      <td>4.0</td>\n",
       "      <td>3.0</td>\n",
       "      <td>2962.0</td>\n",
       "      <td>773303.0</td>\n",
       "      <td>1950</td>\n",
       "      <td>9516.26</td>\n",
       "      <td>6037</td>\n",
       "      <td>34145202.0</td>\n",
       "      <td>-118179824.0</td>\n",
       "    </tr>\n",
       "    <tr>\n",
       "      <th>...</th>\n",
       "      <td>...</td>\n",
       "      <td>...</td>\n",
       "      <td>...</td>\n",
       "      <td>...</td>\n",
       "      <td>...</td>\n",
       "      <td>...</td>\n",
       "      <td>...</td>\n",
       "      <td>...</td>\n",
       "      <td>...</td>\n",
       "      <td>...</td>\n",
       "      <td>...</td>\n",
       "    </tr>\n",
       "    <tr>\n",
       "      <th>52437</th>\n",
       "      <td>52437</td>\n",
       "      <td>11000655</td>\n",
       "      <td>2.0</td>\n",
       "      <td>2.0</td>\n",
       "      <td>1286.0</td>\n",
       "      <td>354621.0</td>\n",
       "      <td>1940</td>\n",
       "      <td>4478.43</td>\n",
       "      <td>6037</td>\n",
       "      <td>34245368.0</td>\n",
       "      <td>-118282383.0</td>\n",
       "    </tr>\n",
       "    <tr>\n",
       "      <th>52438</th>\n",
       "      <td>52438</td>\n",
       "      <td>17239384</td>\n",
       "      <td>4.0</td>\n",
       "      <td>2.0</td>\n",
       "      <td>1612.0</td>\n",
       "      <td>67205.0</td>\n",
       "      <td>1964</td>\n",
       "      <td>1107.48</td>\n",
       "      <td>6111</td>\n",
       "      <td>34300140.0</td>\n",
       "      <td>-118706327.0</td>\n",
       "    </tr>\n",
       "    <tr>\n",
       "      <th>52439</th>\n",
       "      <td>52439</td>\n",
       "      <td>12773139</td>\n",
       "      <td>3.0</td>\n",
       "      <td>1.0</td>\n",
       "      <td>1032.0</td>\n",
       "      <td>49546.0</td>\n",
       "      <td>1954</td>\n",
       "      <td>876.43</td>\n",
       "      <td>6037</td>\n",
       "      <td>34040895.0</td>\n",
       "      <td>-118038169.0</td>\n",
       "    </tr>\n",
       "    <tr>\n",
       "      <th>52440</th>\n",
       "      <td>52440</td>\n",
       "      <td>12826780</td>\n",
       "      <td>3.0</td>\n",
       "      <td>2.0</td>\n",
       "      <td>1762.0</td>\n",
       "      <td>522000.0</td>\n",
       "      <td>1955</td>\n",
       "      <td>6317.15</td>\n",
       "      <td>6037</td>\n",
       "      <td>33937685.0</td>\n",
       "      <td>-117996709.0</td>\n",
       "    </tr>\n",
       "    <tr>\n",
       "      <th>52441</th>\n",
       "      <td>52441</td>\n",
       "      <td>13083743</td>\n",
       "      <td>3.0</td>\n",
       "      <td>2.0</td>\n",
       "      <td>1050.0</td>\n",
       "      <td>259334.0</td>\n",
       "      <td>1960</td>\n",
       "      <td>3345.78</td>\n",
       "      <td>6037</td>\n",
       "      <td>34010864.0</td>\n",
       "      <td>-117900894.0</td>\n",
       "    </tr>\n",
       "  </tbody>\n",
       "</table>\n",
       "<p>52243 rows × 11 columns</p>\n",
       "</div>"
      ],
      "text/plain": [
       "       Unnamed: 0  parcelid  bedroomcnt  bathroomcnt  sqr_ft  \\\n",
       "0               0  14297519         4.0          3.5  3100.0   \n",
       "1               1  17052889         2.0          1.0  1465.0   \n",
       "2               2  14186244         3.0          2.0  1243.0   \n",
       "3               3  12177905         4.0          3.0  2376.0   \n",
       "4               4  12095076         4.0          3.0  2962.0   \n",
       "...           ...       ...         ...          ...     ...   \n",
       "52437       52437  11000655         2.0          2.0  1286.0   \n",
       "52438       52438  17239384         4.0          2.0  1612.0   \n",
       "52439       52439  12773139         3.0          1.0  1032.0   \n",
       "52440       52440  12826780         3.0          2.0  1762.0   \n",
       "52441       52441  13083743         3.0          2.0  1050.0   \n",
       "\n",
       "       taxvaluedollarcnt  yearbuilt  taxamount  fips    latitude    longitude  \n",
       "0              1023282.0       1998   11013.72  6059  33634931.0 -117869207.0  \n",
       "1               464000.0       1967    5672.48  6111  34449266.0 -119281531.0  \n",
       "2               564778.0       1962    6488.30  6059  33886168.0 -117823170.0  \n",
       "3               145143.0       1970    1777.51  6037  34245180.0 -118240722.0  \n",
       "4               773303.0       1950    9516.26  6037  34145202.0 -118179824.0  \n",
       "...                  ...        ...        ...   ...         ...          ...  \n",
       "52437           354621.0       1940    4478.43  6037  34245368.0 -118282383.0  \n",
       "52438            67205.0       1964    1107.48  6111  34300140.0 -118706327.0  \n",
       "52439            49546.0       1954     876.43  6037  34040895.0 -118038169.0  \n",
       "52440           522000.0       1955    6317.15  6037  33937685.0 -117996709.0  \n",
       "52441           259334.0       1960    3345.78  6037  34010864.0 -117900894.0  \n",
       "\n",
       "[52243 rows x 11 columns]"
      ]
     },
     "execution_count": 11,
     "metadata": {},
     "output_type": "execute_result"
    }
   ],
   "source": [
    "zillow = zillow[zillow.bedroomcnt != 0]\n",
    "zillow = zillow[zillow.bathroomcnt != 0.0]\n",
    "zillow.shape[0] / acquire.get_zillow_data().shape[0]\n",
    "zillow"
   ]
  },
  {
   "cell_type": "markdown",
   "id": "452bd77a",
   "metadata": {},
   "source": [
    "## Takeaway: \n",
    "\n",
    "> Still retain 99.1% of data after dropping null values and cleaning zero values for bathroomcnt/bedroomcnt."
   ]
  },
  {
   "cell_type": "code",
   "execution_count": 12,
   "id": "3ed2612b",
   "metadata": {},
   "outputs": [
    {
     "data": {
      "text/html": [
       "<div>\n",
       "<style scoped>\n",
       "    .dataframe tbody tr th:only-of-type {\n",
       "        vertical-align: middle;\n",
       "    }\n",
       "\n",
       "    .dataframe tbody tr th {\n",
       "        vertical-align: top;\n",
       "    }\n",
       "\n",
       "    .dataframe thead th {\n",
       "        text-align: right;\n",
       "    }\n",
       "</style>\n",
       "<table border=\"1\" class=\"dataframe\">\n",
       "  <thead>\n",
       "    <tr style=\"text-align: right;\">\n",
       "      <th></th>\n",
       "      <th>parcelid</th>\n",
       "      <th>bedroomcnt</th>\n",
       "      <th>bathroomcnt</th>\n",
       "      <th>sqr_ft</th>\n",
       "      <th>taxvaluedollarcnt</th>\n",
       "      <th>yearbuilt</th>\n",
       "      <th>taxamount</th>\n",
       "      <th>county</th>\n",
       "      <th>latitude</th>\n",
       "      <th>longitude</th>\n",
       "    </tr>\n",
       "  </thead>\n",
       "  <tbody>\n",
       "    <tr>\n",
       "      <th>0</th>\n",
       "      <td>14297519</td>\n",
       "      <td>4.0</td>\n",
       "      <td>3.5</td>\n",
       "      <td>3100.0</td>\n",
       "      <td>1023282.0</td>\n",
       "      <td>1998.0</td>\n",
       "      <td>11013.72</td>\n",
       "      <td>orange_county</td>\n",
       "      <td>33634931.0</td>\n",
       "      <td>-117869207.0</td>\n",
       "    </tr>\n",
       "    <tr>\n",
       "      <th>1</th>\n",
       "      <td>17052889</td>\n",
       "      <td>2.0</td>\n",
       "      <td>1.0</td>\n",
       "      <td>1465.0</td>\n",
       "      <td>464000.0</td>\n",
       "      <td>1967.0</td>\n",
       "      <td>5672.48</td>\n",
       "      <td>ventura</td>\n",
       "      <td>34449266.0</td>\n",
       "      <td>-119281531.0</td>\n",
       "    </tr>\n",
       "    <tr>\n",
       "      <th>2</th>\n",
       "      <td>14186244</td>\n",
       "      <td>3.0</td>\n",
       "      <td>2.0</td>\n",
       "      <td>1243.0</td>\n",
       "      <td>564778.0</td>\n",
       "      <td>1962.0</td>\n",
       "      <td>6488.30</td>\n",
       "      <td>orange_county</td>\n",
       "      <td>33886168.0</td>\n",
       "      <td>-117823170.0</td>\n",
       "    </tr>\n",
       "    <tr>\n",
       "      <th>3</th>\n",
       "      <td>12177905</td>\n",
       "      <td>4.0</td>\n",
       "      <td>3.0</td>\n",
       "      <td>2376.0</td>\n",
       "      <td>145143.0</td>\n",
       "      <td>1970.0</td>\n",
       "      <td>1777.51</td>\n",
       "      <td>los_angeles</td>\n",
       "      <td>34245180.0</td>\n",
       "      <td>-118240722.0</td>\n",
       "    </tr>\n",
       "    <tr>\n",
       "      <th>4</th>\n",
       "      <td>12095076</td>\n",
       "      <td>4.0</td>\n",
       "      <td>3.0</td>\n",
       "      <td>2962.0</td>\n",
       "      <td>773303.0</td>\n",
       "      <td>1950.0</td>\n",
       "      <td>9516.26</td>\n",
       "      <td>los_angeles</td>\n",
       "      <td>34145202.0</td>\n",
       "      <td>-118179824.0</td>\n",
       "    </tr>\n",
       "  </tbody>\n",
       "</table>\n",
       "</div>"
      ],
      "text/plain": [
       "   parcelid  bedroomcnt  bathroomcnt  sqr_ft  taxvaluedollarcnt  yearbuilt  \\\n",
       "0  14297519         4.0          3.5  3100.0          1023282.0     1998.0   \n",
       "1  17052889         2.0          1.0  1465.0           464000.0     1967.0   \n",
       "2  14186244         3.0          2.0  1243.0           564778.0     1962.0   \n",
       "3  12177905         4.0          3.0  2376.0           145143.0     1970.0   \n",
       "4  12095076         4.0          3.0  2962.0           773303.0     1950.0   \n",
       "\n",
       "   taxamount         county    latitude    longitude  \n",
       "0   11013.72  orange_county  33634931.0 -117869207.0  \n",
       "1    5672.48        ventura  34449266.0 -119281531.0  \n",
       "2    6488.30  orange_county  33886168.0 -117823170.0  \n",
       "3    1777.51    los_angeles  34245180.0 -118240722.0  \n",
       "4    9516.26    los_angeles  34145202.0 -118179824.0  "
      ]
     },
     "execution_count": 12,
     "metadata": {},
     "output_type": "execute_result"
    }
   ],
   "source": [
    "zillow, cats, quants = wr.wrangle_zillow()\n",
    "zillow.head()"
   ]
  },
  {
   "cell_type": "code",
   "execution_count": 13,
   "id": "136ffff7",
   "metadata": {},
   "outputs": [
    {
     "name": "stdout",
     "output_type": "stream",
     "text": [
      "<class 'pandas.core.frame.DataFrame'>\n",
      "Int64Index: 51119 entries, 0 to 52441\n",
      "Data columns (total 10 columns):\n",
      " #   Column             Non-Null Count  Dtype  \n",
      "---  ------             --------------  -----  \n",
      " 0   parcelid           51119 non-null  int64  \n",
      " 1   bedroomcnt         51119 non-null  float64\n",
      " 2   bathroomcnt        51119 non-null  float64\n",
      " 3   sqr_ft             51119 non-null  float64\n",
      " 4   taxvaluedollarcnt  51119 non-null  float64\n",
      " 5   yearbuilt          51119 non-null  float64\n",
      " 6   taxamount          51119 non-null  float64\n",
      " 7   county             51119 non-null  object \n",
      " 8   latitude           51119 non-null  float64\n",
      " 9   longitude          51119 non-null  float64\n",
      "dtypes: float64(8), int64(1), object(1)\n",
      "memory usage: 4.3+ MB\n"
     ]
    }
   ],
   "source": [
    "zillow.info(show_counts=True)"
   ]
  },
  {
   "cell_type": "code",
   "execution_count": null,
   "id": "5b8dba29",
   "metadata": {},
   "outputs": [],
   "source": []
  },
  {
   "cell_type": "markdown",
   "id": "8012de30",
   "metadata": {},
   "source": [
    "## Final Dataset:"
   ]
  },
  {
   "cell_type": "code",
   "execution_count": 14,
   "id": "a9f30067",
   "metadata": {},
   "outputs": [
    {
     "name": "stdout",
     "output_type": "stream",
     "text": [
      "<class 'pandas.core.frame.DataFrame'>\n",
      "Int64Index: 51119 entries, 0 to 52441\n",
      "Data columns (total 10 columns):\n",
      " #   Column             Non-Null Count  Dtype  \n",
      "---  ------             --------------  -----  \n",
      " 0   parcelid           51119 non-null  int64  \n",
      " 1   bedroomcnt         51119 non-null  float64\n",
      " 2   bathroomcnt        51119 non-null  float64\n",
      " 3   sqr_ft             51119 non-null  float64\n",
      " 4   taxvaluedollarcnt  51119 non-null  float64\n",
      " 5   yearbuilt          51119 non-null  float64\n",
      " 6   taxamount          51119 non-null  float64\n",
      " 7   county             51119 non-null  object \n",
      " 8   latitude           51119 non-null  float64\n",
      " 9   longitude          51119 non-null  float64\n",
      "dtypes: float64(8), int64(1), object(1)\n",
      "memory usage: 4.3+ MB\n"
     ]
    }
   ],
   "source": [
    "zillow.head()\n",
    "zillow.info()"
   ]
  },
  {
   "cell_type": "markdown",
   "id": "ee3b8e72",
   "metadata": {},
   "source": [
    "# Proportion of data left after cleaning using following assumptions:\n",
    " > * minimum square feet >= 70 ft\n",
    " > * minimum square ft calculated also by bthroomcnt * 10 sqr ft \n",
    "added to bedroomcnt * 70 sqr ft\n",
    " > * all numeric values with z scores over 3.5 taken out"
   ]
  },
  {
   "cell_type": "code",
   "execution_count": 15,
   "id": "68ed5863",
   "metadata": {},
   "outputs": [
    {
     "data": {
      "text/plain": [
       "0.9747721292094123"
      ]
     },
     "execution_count": 15,
     "metadata": {},
     "output_type": "execute_result"
    }
   ],
   "source": [
    "zillow.shape[0] / acquire.get_zillow_data().shape[0]"
   ]
  },
  {
   "cell_type": "markdown",
   "id": "63b16f82",
   "metadata": {},
   "source": [
    "## Final:\n",
    "> 97.40% data left after cleaning data / purging extreme values."
   ]
  },
  {
   "cell_type": "markdown",
   "id": "f8c55e7d",
   "metadata": {},
   "source": [
    "## Visualizations of Univariate Distributions"
   ]
  },
  {
   "cell_type": "code",
   "execution_count": 16,
   "id": "2fd5e3e9",
   "metadata": {
    "scrolled": false
   },
   "outputs": [
    {
     "data": {
      "image/png": "[encoded data removed]",
      "text/plain": [
       "<Figure size 432x288 with 1 Axes>"
      ]
     },
     "metadata": {
      "needs_background": "light"
     },
     "output_type": "display_data"
    },
    {
     "data": {
      "image/png": "[encoded data removed]",
      "text/plain": [
       "<Figure size 432x288 with 1 Axes>"
      ]
     },
     "metadata": {
      "needs_background": "light"
     },
     "output_type": "display_data"
    },
    {
     "data": {
      "image/png": "[encoded data removed]",
      "text/plain": [
       "<Figure size 432x288 with 1 Axes>"
      ]
     },
     "metadata": {
      "needs_background": "light"
     },
     "output_type": "display_data"
    },
    {
     "data": {
      "image/png": "[encoded data removed]",
      "text/plain": [
       "<Figure size 432x288 with 1 Axes>"
      ]
     },
     "metadata": {
      "needs_background": "light"
     },
     "output_type": "display_data"
    },
    {
     "data": {
      "image/png": "[encoded data removed]",
      "text/plain": [
       "<Figure size 432x288 with 1 Axes>"
      ]
     },
     "metadata": {
      "needs_background": "light"
     },
     "output_type": "display_data"
    },
    {
     "data": {
      "image/png": "[encoded data removed]",
      "text/plain": [
       "<Figure size 432x288 with 1 Axes>"
      ]
     },
     "metadata": {
      "needs_background": "light"
     },
     "output_type": "display_data"
    },
    {
     "data": {
      "image/png": "[encoded data removed]",
      "text/plain": [
       "<Figure size 432x288 with 1 Axes>"
      ]
     },
     "metadata": {
      "needs_background": "light"
     },
     "output_type": "display_data"
    },
    {
     "data": {
      "image/png": "[encoded data removed]",
      "text/plain": [
       "<Figure size 432x288 with 1 Axes>"
      ]
     },
     "metadata": {
      "needs_background": "light"
     },
     "output_type": "display_data"
    },
    {
     "data": {
      "image/png": "[encoded data removed]",
      "text/plain": [
       "<Figure size 432x288 with 1 Axes>"
      ]
     },
     "metadata": {
      "needs_background": "light"
     },
     "output_type": "display_data"
    }
   ],
   "source": [
    "cols_to_visualize = zillow.drop(columns='parcelid').columns\n",
    "for col in cols_to_visualize:\n",
    "    exp.target_freq_hist_count(zillow, col)\n",
    "    plt.xlabel(col)\n",
    "    plt.show()\n",
    "    \n",
    "df = zillow.copy()"
   ]
  },
  {
   "cell_type": "code",
   "execution_count": 17,
   "id": "ebc3f2bd",
   "metadata": {
    "scrolled": true
   },
   "outputs": [],
   "source": [
    "def county_borders(df, resolution):\n",
    "    zillow = df.copy()\n",
    "    border_dict = {}\n",
    "    grids = []\n",
    "    prices = []\n",
    "    \n",
    "    zillow.latitude = zillow.latitude / 1000000\n",
    "    zillow.longitude = zillow.longitude / 1000000\n",
    "    \n",
    "    for county in zillow.county.unique():\n",
    "        border_dict[f'{county}_lat_min'] = zillow[zillow.county == county].latitude.min()\n",
    "        border_dict[f'{county}_lat_max'] = zillow[zillow.county == county].latitude.max()\n",
    "        border_dict[f'{county}_lon_min'] = zillow[zillow.county == county].longitude.min()\n",
    "        border_dict[f'{county}_lon_max'] = zillow[zillow.county == county].longitude.max()\n",
    "        \n",
    "        #print(border_dict)\n",
    "        \n",
    "        border_dict = lat_lon_steps(border_dict, zillow, resolution, county)\n",
    "        \n",
    "        border_dict[f'{county}_lat'] = np.arange(border_dict[f'{county}_lat_min'], \n",
    "                                                 border_dict[f'{county}_lat_max'],\n",
    "                                                 border_dict[f'{county}_lat_step'])\n",
    "        \n",
    "        \n",
    "        border_dict[f'{county}_lon'] = np.arange(border_dict[f'{county}_lon_min'],\n",
    "                                                 border_dict[f'{county}_lon_max'],\n",
    "                                                 border_dict[f'{county}_lon_step'])\n",
    "        \n",
    "    return border_dict\n",
    "    \n",
    "\n",
    "\n",
    "def lat_lon_steps(border_dict, zillow, resolution, county):\n",
    "    \n",
    "    border_dict[f'{county}_lat_step'] = (border_dict[f'{county}_lat_max'] - border_dict[f'{county}_lat_min']) / resolution\n",
    "    border_dict[f'{county}_lon_step'] = (border_dict[f'{county}_lon_max'] - border_dict[f'{county}_lon_min']) / resolution\n",
    "\n",
    "    return border_dict\n",
    "\n",
    "def create_grids(border_dict, resolution, df, sample=30_000):\n",
    "    grids = []\n",
    "    prices = []\n",
    "    lat_coords = []\n",
    "    lon_coords = []\n",
    "    sqr_ft = []\n",
    "    added = 0\n",
    "    \n",
    "    if sample:\n",
    "        zillow = df.sample(sample)\n",
    "        \n",
    "    else:\n",
    "        zillow = df\n",
    "    \n",
    "    for i, county in enumerate(np.sort(zillow.county.unique())):\n",
    "        grids.append(np.zeros((resolution, resolution)))\n",
    "        prices.append(np.zeros((resolution, resolution)))\n",
    "        lat_coords.append(np.zeros((resolution,resolution)))\n",
    "        lon_coords.append(np.zeros((resolution,resolution)))\n",
    "        sqr_ft.append(np.zeros((resolution,resolution)))\n",
    "        \n",
    "        county_subset = zillow[zillow.county == county]\n",
    "        print(county)\n",
    "        \n",
    "        for a in range(len(county_subset)):\n",
    "            \n",
    "            for b1 in range(resolution):\n",
    "                if border_dict[f'{county}_lat'][b1] - (border_dict[f'{county}_lat_step']/2) <= county_subset.latitude.values[a] < border_dict[f'{county}_lat'][b1] + (border_dict[f'{county}_lat_step'] /2):\n",
    "                \n",
    "                    for b2 in range(resolution):\n",
    "                        if border_dict[f'{county}_lon'][b2] - (border_dict[f'{county}_lon_step']/2) <= county_subset.longitude.values[a] < border_dict[f'{county}_lon'][b2] + (border_dict[f'{county}_lon_step']/2):\n",
    "\n",
    "                            prices[i][b1, b2] += county_subset.taxvaluedollarcnt.values[a]\n",
    "                            grids[i][b1, b2] += 1\n",
    "                            sqr_ft[i][b1,b2] += county_subset.sqr_ft.values[a]\n",
    "                            lat_coords[i][b1, b2] = border_dict[f'{county}_lat'][b1]\n",
    "                            lon_coords[i][b1, b2] = border_dict[f'{county}_lon'][b2]\n",
    "                            break\n",
    "                    break\n",
    "                            \n",
    "            added += 1\n",
    "            if added % (sample/5) == 0:\n",
    "                print(added)\n",
    "        #print(grids[i])\n",
    "    \n",
    "    return grids, prices, lat_coords, lon_coords, sqr_ft, resolution\n",
    "\n",
    "\n",
    "def create_map_data(df, resolution, sample=30_000):\n",
    "    border_dict = county_borders(df, resolution)\n",
    "    grids, prices, lat_coords, lon_coords, sqr_ft, resolution = create_grids(border_dict, resolution, \n",
    "                                                                                 df, sample=sample)\n",
    "    \n",
    "    return prices, grids, lat_coords, lon_coords, sqr_ft, resolution\n",
    "  "
   ]
  },
  {
   "cell_type": "code",
   "execution_count": 18,
   "id": "2a3cb9eb",
   "metadata": {},
   "outputs": [],
   "source": [
    "def create_display_heatmap(prices, grid, lat_coords, lon_coords, sqr_ft, resolution, \n",
    "                           counties=['la'], option='average_price'):\n",
    "    \n",
    "    county_dfs = []\n",
    "    \n",
    "    api_key = env.gmaps_api()\n",
    "    gmaps.configure(api_key=api_key)\n",
    "    \n",
    "    for county in counties:\n",
    "        i = 0\n",
    "        if county == 'oc':\n",
    "            i = 1\n",
    "        elif county == 'ventura':\n",
    "            i = 2\n",
    "        \n",
    "        county_latitude_values = lat_coords[i].reshape((resolution**2,))\n",
    "        county_longitude_values = lon_coords[i].reshape((resolution**2,))\n",
    "        county_prices = prices[i].reshape((resolution**2,))\n",
    "        county_grid = grids[i].reshape((resolution**2,))\n",
    "        county_sqr_ft = sqr_ft[i].reshape((resolution**2,))\n",
    "\n",
    "        heatmap_prices = {'county_prices': county_prices, 'latitude': county_latitude_values, \n",
    "                          'longitude': county_longitude_values, 'num_houses': county_grid,\n",
    "                          'sqr_ft': county_sqr_ft}\n",
    "\n",
    "        county_df =pd.DataFrame(heatmap_prices)\n",
    "        county_df = county_df[county_df.num_houses > 0]\n",
    "\n",
    "        county_df['avg_prices'] = county_df.county_prices / county_df.num_houses\n",
    "        county_df['price_per_sqr_ft'] = county_df.county_prices / county_df.sqr_ft\n",
    "        print(county_df.price_per_sqr_ft.max())\n",
    "        \n",
    "        county_dfs.append(county_df)\n",
    "\n",
    "        locations = county_df[['latitude', 'longitude']]\n",
    "        \n",
    "        options = {'average_price': county_df['avg_prices'], 'price_per_sqr_ft': county_df['price_per_sqr_ft']}\n",
    "        weights = options[option]\n",
    "\n",
    "        fig = gmaps.figure()\n",
    "        heatmap_layer = gmaps.heatmap_layer(county_df[['latitude', 'longitude']], weights=weights, \n",
    "                                            max_intensity=county_df.price_per_sqr_ft.max(), point_radius=1.2)\n",
    "\n",
    "        fig.add_layer(gmaps.heatmap_layer(county_df[['latitude', 'longitude']], weights=weights))\n",
    "        display(fig)\n",
    "        \n",
    "    return county_dfs\n",
    "    "
   ]
  },
  {
   "cell_type": "code",
   "execution_count": 19,
   "id": "a28588c4",
   "metadata": {
    "scrolled": true
   },
   "outputs": [
    {
     "name": "stdout",
     "output_type": "stream",
     "text": [
      "los_angeles\n",
      "2000\n",
      "4000\n",
      "6000\n",
      "orange_county\n",
      "8000\n",
      "ventura\n",
      "10000\n"
     ]
    }
   ],
   "source": [
    "prices, grids, lat_coords, lon_coords, sqr_ft, resolution = exp.create_map_data(df, resolution=100,\n",
    "                                                                            sample=10_000)\n",
    "\n"
   ]
  },
  {
   "cell_type": "code",
   "execution_count": 20,
   "id": "e7ebce6c",
   "metadata": {},
   "outputs": [
    {
     "data": {
      "application/vnd.jupyter.widget-view+json": {
       "model_id": "6197e88580ee4ff083348ca9d8d4485f",
       "version_major": 2,
       "version_minor": 0
      },
      "text/plain": [
       "Figure(layout=FigureLayout(height='420px'))"
      ]
     },
     "metadata": {},
     "output_type": "display_data"
    },
    {
     "name": "stdout",
     "output_type": "stream",
     "text": [
      "1474.02157079646\n",
      "1926.5758139534885\n"
     ]
    },
    {
     "data": {
      "application/vnd.jupyter.widget-view+json": {
       "model_id": "d8384df44a9f4ba2b1c8b637299e8af6",
       "version_major": 2,
       "version_minor": 0
      },
      "text/plain": [
       "Figure(layout=FigureLayout(height='420px'))"
      ]
     },
     "metadata": {},
     "output_type": "display_data"
    },
    {
     "name": "stdout",
     "output_type": "stream",
     "text": [
      "764.5502645502645\n"
     ]
    },
    {
     "data": {
      "application/vnd.jupyter.widget-view+json": {
       "model_id": "51c6a14f21864b958109da1325196a22",
       "version_major": 2,
       "version_minor": 0
      },
      "text/plain": [
       "Figure(layout=FigureLayout(height='420px'))"
      ]
     },
     "metadata": {},
     "output_type": "display_data"
    }
   ],
   "source": [
    "county_dfs = exp.create_display_heatmap(prices, grids, lat_coords, lon_coords, sqr_ft, resolution,\n",
    "                       counties=['la', 'oc', 'ventura'], option='price_per_sqr_ft')"
   ]
  },
  {
   "cell_type": "code",
   "execution_count": 21,
   "id": "5ec24ca7",
   "metadata": {},
   "outputs": [
    {
     "data": {
      "image/png": "[encoded data removed]",
      "text/plain": [
       "<Figure size 432x288 with 1 Axes>"
      ]
     },
     "metadata": {
      "needs_background": "light"
     },
     "output_type": "display_data"
    },
    {
     "data": {
      "text/html": [
       "<div>\n",
       "<style scoped>\n",
       "    .dataframe tbody tr th:only-of-type {\n",
       "        vertical-align: middle;\n",
       "    }\n",
       "\n",
       "    .dataframe tbody tr th {\n",
       "        vertical-align: top;\n",
       "    }\n",
       "\n",
       "    .dataframe thead th {\n",
       "        text-align: right;\n",
       "    }\n",
       "</style>\n",
       "<table border=\"1\" class=\"dataframe\">\n",
       "  <thead>\n",
       "    <tr style=\"text-align: right;\">\n",
       "      <th></th>\n",
       "      <th>county_prices</th>\n",
       "      <th>latitude</th>\n",
       "      <th>longitude</th>\n",
       "      <th>num_houses</th>\n",
       "      <th>sqr_ft</th>\n",
       "      <th>avg_prices</th>\n",
       "      <th>price_per_sqr_ft</th>\n",
       "      <th>price_range</th>\n",
       "    </tr>\n",
       "  </thead>\n",
       "  <tbody>\n",
       "    <tr>\n",
       "      <th>46</th>\n",
       "      <td>478726.0</td>\n",
       "      <td>33.340620</td>\n",
       "      <td>-118.324135</td>\n",
       "      <td>1.0</td>\n",
       "      <td>1623.0</td>\n",
       "      <td>478726.000000</td>\n",
       "      <td>294.963648</td>\n",
       "      <td>pricey</td>\n",
       "    </tr>\n",
       "    <tr>\n",
       "      <th>2549</th>\n",
       "      <td>1225111.0</td>\n",
       "      <td>33.710157</td>\n",
       "      <td>-118.286900</td>\n",
       "      <td>2.0</td>\n",
       "      <td>4168.0</td>\n",
       "      <td>612555.500000</td>\n",
       "      <td>293.932582</td>\n",
       "      <td>pricey</td>\n",
       "    </tr>\n",
       "    <tr>\n",
       "      <th>2646</th>\n",
       "      <td>1196013.0</td>\n",
       "      <td>33.724938</td>\n",
       "      <td>-118.324135</td>\n",
       "      <td>3.0</td>\n",
       "      <td>4883.0</td>\n",
       "      <td>398671.000000</td>\n",
       "      <td>244.934057</td>\n",
       "      <td>pricey</td>\n",
       "    </tr>\n",
       "    <tr>\n",
       "      <th>2647</th>\n",
       "      <td>4217676.0</td>\n",
       "      <td>33.724938</td>\n",
       "      <td>-118.311723</td>\n",
       "      <td>6.0</td>\n",
       "      <td>11794.0</td>\n",
       "      <td>702946.000000</td>\n",
       "      <td>357.612006</td>\n",
       "      <td>pricey</td>\n",
       "    </tr>\n",
       "    <tr>\n",
       "      <th>2648</th>\n",
       "      <td>4338415.0</td>\n",
       "      <td>33.724938</td>\n",
       "      <td>-118.299311</td>\n",
       "      <td>9.0</td>\n",
       "      <td>14015.0</td>\n",
       "      <td>482046.111111</td>\n",
       "      <td>309.555120</td>\n",
       "      <td>pricey</td>\n",
       "    </tr>\n",
       "  </tbody>\n",
       "</table>\n",
       "</div>"
      ],
      "text/plain": [
       "      county_prices   latitude   longitude  num_houses   sqr_ft  \\\n",
       "46         478726.0  33.340620 -118.324135         1.0   1623.0   \n",
       "2549      1225111.0  33.710157 -118.286900         2.0   4168.0   \n",
       "2646      1196013.0  33.724938 -118.324135         3.0   4883.0   \n",
       "2647      4217676.0  33.724938 -118.311723         6.0  11794.0   \n",
       "2648      4338415.0  33.724938 -118.299311         9.0  14015.0   \n",
       "\n",
       "         avg_prices  price_per_sqr_ft price_range  \n",
       "46    478726.000000        294.963648      pricey  \n",
       "2549  612555.500000        293.932582      pricey  \n",
       "2646  398671.000000        244.934057      pricey  \n",
       "2647  702946.000000        357.612006      pricey  \n",
       "2648  482046.111111        309.555120      pricey  "
      ]
     },
     "execution_count": 21,
     "metadata": {},
     "output_type": "execute_result"
    }
   ],
   "source": [
    "limit = county_dfs[0].price_per_sqr_ft.max()\n",
    "intervals = np.arange(0, limit+ (limit/5), limit/6)\n",
    "\n",
    "fig = county_dfs[0].price_per_sqr_ft.hist(bins=5)\n",
    "fig.xticks = intervals\n",
    "plt.show()\n",
    "\n",
    "# 0 - 215         average\n",
    "# 216 - 440       pricey\n",
    "# 441 - limit     expensive\n",
    "\n",
    "def range_values(series):\n",
    "    if 0 < series <= 215:\n",
    "        return 'average'\n",
    "    elif 215 < series <= 440:\n",
    "        return 'pricey'\n",
    "    elif 440 < series:\n",
    "        return 'expensive'\n",
    "\n",
    "county_dfs[0]['price_range'] = ''\n",
    "county_dfs[0].price_range = county_dfs[0].price_per_sqr_ft.apply(range_values)\n",
    "county_dfs[0].head()\n"
   ]
  },
  {
   "cell_type": "code",
   "execution_count": 22,
   "id": "df36bc27",
   "metadata": {
    "scrolled": true
   },
   "outputs": [
    {
     "data": {
      "text/plain": [
       "<AxesSubplot:xlabel='latitude', ylabel='longitude'>"
      ]
     },
     "execution_count": 22,
     "metadata": {},
     "output_type": "execute_result"
    },
    {
     "data": {
      "image/png": "[encoded data removed]",
      "text/plain": [
       "<Figure size 432x288 with 1 Axes>"
      ]
     },
     "metadata": {
      "needs_background": "light"
     },
     "output_type": "display_data"
    }
   ],
   "source": [
    "sns.scatterplot(data=county_dfs[0], x=county_dfs[0].latitude, y=county_dfs[0].longitude, hue='price_range')"
   ]
  },
  {
   "cell_type": "code",
   "execution_count": 23,
   "id": "41799eae",
   "metadata": {},
   "outputs": [
    {
     "data": {
      "text/html": [
       "<div>\n",
       "<style scoped>\n",
       "    .dataframe tbody tr th:only-of-type {\n",
       "        vertical-align: middle;\n",
       "    }\n",
       "\n",
       "    .dataframe tbody tr th {\n",
       "        vertical-align: top;\n",
       "    }\n",
       "\n",
       "    .dataframe thead th {\n",
       "        text-align: right;\n",
       "    }\n",
       "</style>\n",
       "<table border=\"1\" class=\"dataframe\">\n",
       "  <thead>\n",
       "    <tr style=\"text-align: right;\">\n",
       "      <th></th>\n",
       "      <th>parcelid</th>\n",
       "      <th>bedroomcnt</th>\n",
       "      <th>bathroomcnt</th>\n",
       "      <th>sqr_ft</th>\n",
       "      <th>taxvaluedollarcnt</th>\n",
       "      <th>yearbuilt</th>\n",
       "      <th>taxamount</th>\n",
       "      <th>county</th>\n",
       "      <th>latitude</th>\n",
       "      <th>longitude</th>\n",
       "      <th>price_per_sqr_ft</th>\n",
       "      <th>price_range</th>\n",
       "    </tr>\n",
       "  </thead>\n",
       "  <tbody>\n",
       "    <tr>\n",
       "      <th>0</th>\n",
       "      <td>14297519</td>\n",
       "      <td>4.0</td>\n",
       "      <td>3.5</td>\n",
       "      <td>3100.0</td>\n",
       "      <td>1023282.0</td>\n",
       "      <td>1998.0</td>\n",
       "      <td>11013.72</td>\n",
       "      <td>orange_county</td>\n",
       "      <td>33634931.0</td>\n",
       "      <td>-117869207.0</td>\n",
       "      <td>330.090968</td>\n",
       "      <td>pricey</td>\n",
       "    </tr>\n",
       "    <tr>\n",
       "      <th>1</th>\n",
       "      <td>17052889</td>\n",
       "      <td>2.0</td>\n",
       "      <td>1.0</td>\n",
       "      <td>1465.0</td>\n",
       "      <td>464000.0</td>\n",
       "      <td>1967.0</td>\n",
       "      <td>5672.48</td>\n",
       "      <td>ventura</td>\n",
       "      <td>34449266.0</td>\n",
       "      <td>-119281531.0</td>\n",
       "      <td>316.723549</td>\n",
       "      <td>pricey</td>\n",
       "    </tr>\n",
       "    <tr>\n",
       "      <th>2</th>\n",
       "      <td>14186244</td>\n",
       "      <td>3.0</td>\n",
       "      <td>2.0</td>\n",
       "      <td>1243.0</td>\n",
       "      <td>564778.0</td>\n",
       "      <td>1962.0</td>\n",
       "      <td>6488.30</td>\n",
       "      <td>orange_county</td>\n",
       "      <td>33886168.0</td>\n",
       "      <td>-117823170.0</td>\n",
       "      <td>454.366854</td>\n",
       "      <td>expensive</td>\n",
       "    </tr>\n",
       "    <tr>\n",
       "      <th>3</th>\n",
       "      <td>12177905</td>\n",
       "      <td>4.0</td>\n",
       "      <td>3.0</td>\n",
       "      <td>2376.0</td>\n",
       "      <td>145143.0</td>\n",
       "      <td>1970.0</td>\n",
       "      <td>1777.51</td>\n",
       "      <td>los_angeles</td>\n",
       "      <td>34245180.0</td>\n",
       "      <td>-118240722.0</td>\n",
       "      <td>61.087121</td>\n",
       "      <td>average</td>\n",
       "    </tr>\n",
       "    <tr>\n",
       "      <th>4</th>\n",
       "      <td>12095076</td>\n",
       "      <td>4.0</td>\n",
       "      <td>3.0</td>\n",
       "      <td>2962.0</td>\n",
       "      <td>773303.0</td>\n",
       "      <td>1950.0</td>\n",
       "      <td>9516.26</td>\n",
       "      <td>los_angeles</td>\n",
       "      <td>34145202.0</td>\n",
       "      <td>-118179824.0</td>\n",
       "      <td>261.074612</td>\n",
       "      <td>pricey</td>\n",
       "    </tr>\n",
       "    <tr>\n",
       "      <th>...</th>\n",
       "      <td>...</td>\n",
       "      <td>...</td>\n",
       "      <td>...</td>\n",
       "      <td>...</td>\n",
       "      <td>...</td>\n",
       "      <td>...</td>\n",
       "      <td>...</td>\n",
       "      <td>...</td>\n",
       "      <td>...</td>\n",
       "      <td>...</td>\n",
       "      <td>...</td>\n",
       "      <td>...</td>\n",
       "    </tr>\n",
       "    <tr>\n",
       "      <th>52437</th>\n",
       "      <td>11000655</td>\n",
       "      <td>2.0</td>\n",
       "      <td>2.0</td>\n",
       "      <td>1286.0</td>\n",
       "      <td>354621.0</td>\n",
       "      <td>1940.0</td>\n",
       "      <td>4478.43</td>\n",
       "      <td>los_angeles</td>\n",
       "      <td>34245368.0</td>\n",
       "      <td>-118282383.0</td>\n",
       "      <td>275.755054</td>\n",
       "      <td>pricey</td>\n",
       "    </tr>\n",
       "    <tr>\n",
       "      <th>52438</th>\n",
       "      <td>17239384</td>\n",
       "      <td>4.0</td>\n",
       "      <td>2.0</td>\n",
       "      <td>1612.0</td>\n",
       "      <td>67205.0</td>\n",
       "      <td>1964.0</td>\n",
       "      <td>1107.48</td>\n",
       "      <td>ventura</td>\n",
       "      <td>34300140.0</td>\n",
       "      <td>-118706327.0</td>\n",
       "      <td>41.690447</td>\n",
       "      <td>average</td>\n",
       "    </tr>\n",
       "    <tr>\n",
       "      <th>52439</th>\n",
       "      <td>12773139</td>\n",
       "      <td>3.0</td>\n",
       "      <td>1.0</td>\n",
       "      <td>1032.0</td>\n",
       "      <td>49546.0</td>\n",
       "      <td>1954.0</td>\n",
       "      <td>876.43</td>\n",
       "      <td>los_angeles</td>\n",
       "      <td>34040895.0</td>\n",
       "      <td>-118038169.0</td>\n",
       "      <td>48.009690</td>\n",
       "      <td>average</td>\n",
       "    </tr>\n",
       "    <tr>\n",
       "      <th>52440</th>\n",
       "      <td>12826780</td>\n",
       "      <td>3.0</td>\n",
       "      <td>2.0</td>\n",
       "      <td>1762.0</td>\n",
       "      <td>522000.0</td>\n",
       "      <td>1955.0</td>\n",
       "      <td>6317.15</td>\n",
       "      <td>los_angeles</td>\n",
       "      <td>33937685.0</td>\n",
       "      <td>-117996709.0</td>\n",
       "      <td>296.254257</td>\n",
       "      <td>pricey</td>\n",
       "    </tr>\n",
       "    <tr>\n",
       "      <th>52441</th>\n",
       "      <td>13083743</td>\n",
       "      <td>3.0</td>\n",
       "      <td>2.0</td>\n",
       "      <td>1050.0</td>\n",
       "      <td>259334.0</td>\n",
       "      <td>1960.0</td>\n",
       "      <td>3345.78</td>\n",
       "      <td>los_angeles</td>\n",
       "      <td>34010864.0</td>\n",
       "      <td>-117900894.0</td>\n",
       "      <td>246.984762</td>\n",
       "      <td>pricey</td>\n",
       "    </tr>\n",
       "  </tbody>\n",
       "</table>\n",
       "<p>51119 rows × 12 columns</p>\n",
       "</div>"
      ],
      "text/plain": [
       "       parcelid  bedroomcnt  bathroomcnt  sqr_ft  taxvaluedollarcnt  \\\n",
       "0      14297519         4.0          3.5  3100.0          1023282.0   \n",
       "1      17052889         2.0          1.0  1465.0           464000.0   \n",
       "2      14186244         3.0          2.0  1243.0           564778.0   \n",
       "3      12177905         4.0          3.0  2376.0           145143.0   \n",
       "4      12095076         4.0          3.0  2962.0           773303.0   \n",
       "...         ...         ...          ...     ...                ...   \n",
       "52437  11000655         2.0          2.0  1286.0           354621.0   \n",
       "52438  17239384         4.0          2.0  1612.0            67205.0   \n",
       "52439  12773139         3.0          1.0  1032.0            49546.0   \n",
       "52440  12826780         3.0          2.0  1762.0           522000.0   \n",
       "52441  13083743         3.0          2.0  1050.0           259334.0   \n",
       "\n",
       "       yearbuilt  taxamount         county    latitude    longitude  \\\n",
       "0         1998.0   11013.72  orange_county  33634931.0 -117869207.0   \n",
       "1         1967.0    5672.48        ventura  34449266.0 -119281531.0   \n",
       "2         1962.0    6488.30  orange_county  33886168.0 -117823170.0   \n",
       "3         1970.0    1777.51    los_angeles  34245180.0 -118240722.0   \n",
       "4         1950.0    9516.26    los_angeles  34145202.0 -118179824.0   \n",
       "...          ...        ...            ...         ...          ...   \n",
       "52437     1940.0    4478.43    los_angeles  34245368.0 -118282383.0   \n",
       "52438     1964.0    1107.48        ventura  34300140.0 -118706327.0   \n",
       "52439     1954.0     876.43    los_angeles  34040895.0 -118038169.0   \n",
       "52440     1955.0    6317.15    los_angeles  33937685.0 -117996709.0   \n",
       "52441     1960.0    3345.78    los_angeles  34010864.0 -117900894.0   \n",
       "\n",
       "       price_per_sqr_ft price_range  \n",
       "0            330.090968      pricey  \n",
       "1            316.723549      pricey  \n",
       "2            454.366854   expensive  \n",
       "3             61.087121     average  \n",
       "4            261.074612      pricey  \n",
       "...                 ...         ...  \n",
       "52437        275.755054      pricey  \n",
       "52438         41.690447     average  \n",
       "52439         48.009690     average  \n",
       "52440        296.254257      pricey  \n",
       "52441        246.984762      pricey  \n",
       "\n",
       "[51119 rows x 12 columns]"
      ]
     },
     "execution_count": 23,
     "metadata": {},
     "output_type": "execute_result"
    }
   ],
   "source": [
    "#zillow = zillow.taxvaluedollarcnt.apply(range_values)\n",
    "zillow['price_per_sqr_ft'] = zillow.taxvaluedollarcnt/zillow.sqr_ft\n",
    "zillow['price_range'] = zillow.price_per_sqr_ft.apply(range_values)\n",
    "zillow"
   ]
  },
  {
   "cell_type": "code",
   "execution_count": 24,
   "id": "14716bca",
   "metadata": {
    "scrolled": false
   },
   "outputs": [
    {
     "data": {
      "image/png": "[encoded data removed]",
      "text/plain": [
       "<Figure size 432x288 with 1 Axes>"
      ]
     },
     "metadata": {
      "needs_background": "light"
     },
     "output_type": "display_data"
    },
    {
     "data": {
      "image/png": "[encoded data removed]",
      "text/plain": [
       "<Figure size 432x288 with 1 Axes>"
      ]
     },
     "metadata": {
      "needs_background": "light"
     },
     "output_type": "display_data"
    },
    {
     "data": {
      "image/png": "[encoded data removed]",
      "text/plain": [
       "<Figure size 432x288 with 1 Axes>"
      ]
     },
     "metadata": {
      "needs_background": "light"
     },
     "output_type": "display_data"
    },
    {
     "data": {
      "image/png": "[encoded data removed]",
      "text/plain": [
       "<Figure size 432x288 with 1 Axes>"
      ]
     },
     "metadata": {
      "needs_background": "light"
     },
     "output_type": "display_data"
    },
    {
     "data": {
      "image/png": "[encoded data removed]",
      "text/plain": [
       "<Figure size 432x288 with 1 Axes>"
      ]
     },
     "metadata": {
      "needs_background": "light"
     },
     "output_type": "display_data"
    }
   ],
   "source": [
    "continuous = ['bedroomcnt', 'bathroomcnt', 'sqr_ft', 'yearbuilt', 'taxvaluedollarcnt']\n",
    "\n",
    "exp.plot_categorical_and_continuous_vars(zillow, continuous, cats)\n"
   ]
  },
  {
   "cell_type": "code",
   "execution_count": null,
   "id": "2af02c45",
   "metadata": {},
   "outputs": [],
   "source": []
  }
 ],
 "metadata": {
  "kernelspec": {
   "display_name": "Python 3 (ipykernel)",
   "language": "python",
   "name": "python3"
  },
  "language_info": {
   "codemirror_mode": {
    "name": "ipython",
    "version": 3
   },
   "file_extension": ".py",
   "mimetype": "text/x-python",
   "name": "python",
   "nbconvert_exporter": "python",
   "pygments_lexer": "ipython3",
   "version": "3.9.7"
  }
 },
 "nbformat": 4,
 "nbformat_minor": 5
}
